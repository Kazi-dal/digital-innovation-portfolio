{
 "cells": [
  {
   "cell_type": "markdown",
   "metadata": {},
   "source": [
    "# Lab 2 - Basic data cleaning and analysis\n",
    "*© 2025 Colin Conrad and Pallavi Gone*\n",
    "\n",
    "Welcome to Week 2 of ECMM 6014! Last week we explored two key elements of the Python programming lanaguage: loops and functions. These skills are the essential building blocks of virtually all work in data science. This week we will explore two basic data structures: lists and dictionaries. This week's case is built on data from rental data in Halifax from the Canada Mortgage and Housing Corporation (CMHC) and may actually provide you with useful insight in your search for housing. \n",
    "\n",
    "**This week, we will achieve the following objectives:**\n",
    "- Make and manage a lists\n",
    "- Use a function to interpret list data\n",
    "- Assess list data quality\n",
    "- Make and manage a dictionary\n",
    "- Analyze where rent is growing fastest\n",
    "\n",
    "Reference: Sweigart (2014) Ch. 4 and 5. [Sweigart (2020)](https://automatetheboringstuff.com/)."
   ]
  },
  {
   "cell_type": "markdown",
   "metadata": {},
   "source": [
    "# Case: Canada Mortgage and Housing Corporation\n",
    "The [Canada Mortgage and Housing Corporation (CMHC)](https://www.youtube.com/watch?v=vy19rwKFGYk#action=share) is a crown corporation with a mandate to assist housing for Canadians. Founded shortly after the second world war, its purpose was once to find housing for veterans. Now it provides programs for making mortgages more affordable and enforces policies designed to make rent more accessible. The CMHC also provides data on rental affordability, including [information on the average price of rent](https://www03.cmhc-schl.gc.ca/hmip-pimh/en#TableMapChart/0580/3/Halifax%20CMA) for various regions in Halifax through its information portal.\n",
    "\n",
    "Like most information portals, CMHC's is built to make the most important information accessible. This has the unfortunate consequence of also making it difficult to retrieve the data that you need. To retrieve rental price data, you must first select your appropriate data boundary and then select `Primary Rental Market` and `Average Rent ($)`. You can then download data in csv format, similar to the `2022_10_Halifax_Rental.csv` provided to you in Brightspace.\n",
    "\n",
    "The data provided by CMHC is not formatted in a way that is conducive to data science. They provide data in rows and columns, complete with notes at the bottom of the file. It would be desirable to prepare the data in a way that is appropriate for analysis. If we were able to do it in Python, we could sort through hundreds of CSV spreadsheets, such as the rental data for October of each preceding year."
   ]
  },
  {
   "cell_type": "markdown",
   "metadata": {},
   "source": [
    "# Objective 1: Make and manage lists\n",
    "Lists are very important for data scientists-- in fact, this is the week when our Python tasks will start to feel a bit more like data science, specifically! Lists are data structures which consist of a series of values organized in a systematic way. For example, if we wanted to list the rental values for the South End of Halifax, as given in the 2022 CMHC rental data, we could create a list such as `peninsula_south` below."
   ]
  },
  {
   "cell_type": "code",
   "execution_count": 1,
   "metadata": {},
   "outputs": [],
   "source": [
    "# a list of rental prices\n",
    "\n",
    "peninsula_south = [1064, 1396, 1896, 2325] # corresponds to line 4 of the 2022 data"
   ]
  },
  {
   "cell_type": "markdown",
   "metadata": {},
   "source": [
    "In some ways, lists are like the strings which we investigated the past few weeks. Lists are organized with indexes, similarly to the sequence of characters in strings. For example, if we wanted to retrieve a value for the first item in our list, we could retrieve it using the index. "
   ]
  },
  {
   "cell_type": "code",
   "execution_count": 4,
   "metadata": {},
   "outputs": [
    {
     "data": {
      "text/plain": [
       "1396"
      ]
     },
     "execution_count": 4,
     "metadata": {},
     "output_type": "execute_result"
    }
   ],
   "source": [
    " peninsula_south[1] # retrieves the second value from the list"
   ]
  },
  {
   "cell_type": "markdown",
   "metadata": {},
   "source": [
    "Lists can also be subdivided using an index range, similarly to strings. For example, if we had the string `\"The data scientist solved the problem\"` and wanted to only retrieve the values `\"The\"`, we could specify the range `[0:3]`. Likewise, to retrieve values from a list, we can specify the range of items, such as with the code below."
   ]
  },
  {
   "cell_type": "code",
   "execution_count": 9,
   "metadata": {},
   "outputs": [
    {
     "data": {
      "text/plain": [
       "[1064, 1396, 1896]"
      ]
     },
     "execution_count": 9,
     "metadata": {},
     "output_type": "execute_result"
    }
   ],
   "source": [
    "peninsula_south[0:3] # returns a subdivided list of only the first three values"
   ]
  },
  {
   "cell_type": "markdown",
   "metadata": {},
   "source": [
    "This said, lists can contain any type of data, such as strings, integers, floats ... even other lists! In this respect, they are very different. The code below demonstrates how lists can contain different types of values. Try printing the various list values by executing the cell."
   ]
  },
  {
   "cell_type": "code",
   "execution_count": 12,
   "metadata": {},
   "outputs": [
    {
     "name": "stdout",
     "output_type": "stream",
     "text": [
      "Strings are cool!\n",
      "42\n",
      "42.56\n",
      "['Seriously, they are cool!', 'You can even add lists within lists!']\n"
     ]
    }
   ],
   "source": [
    "list_example = [\"Strings are cool!\", 42, 42.56, [\"Seriously, they are cool!\", \"You can even add lists within lists!\"]]\n",
    "\n",
    "for l in list_example:\n",
    "    print(l)"
   ]
  },
  {
   "cell_type": "markdown",
   "metadata": {},
   "source": [
    "### Looping through lists"
   ]
  },
  {
   "cell_type": "markdown",
   "metadata": {},
   "source": [
    "In practical terms, the combination of loops and lists is very powerful. In data science, we could store a series of values in a list and use loops to iterate through each item in the list. Interestingly, the `for` loop is particularly well suited for this task. Consider the code below, which iterates through each r (short notation for rental value) in `peninsula_south` and checks whether it is greater than 1200, and if so, prints them."
   ]
  },
  {
   "cell_type": "code",
   "execution_count": 16,
   "metadata": {},
   "outputs": [
    {
     "name": "stdout",
     "output_type": "stream",
     "text": [
      "1396\n",
      "1896\n",
      "2325\n"
     ]
    }
   ],
   "source": [
    "for r in peninsula_south: # iterates through each list value\n",
    "    if r > 1200:\n",
    "        print(r)"
   ]
  },
  {
   "cell_type": "markdown",
   "metadata": {},
   "source": [
    "This creates some interesting dynamics for your code. As we saw last week, `while` loops will execute the code in the loop until the logical condition is met. If we wanted, we could write a while loop that iterates over a range of prespecified values. Consider the following code which accomplishes the same result as the for loop above."
   ]
  },
  {
   "cell_type": "code",
   "execution_count": 19,
   "metadata": {},
   "outputs": [
    {
     "name": "stdout",
     "output_type": "stream",
     "text": [
      "1396\n",
      "1896\n",
      "2325\n"
     ]
    }
   ],
   "source": [
    "i = 0\n",
    "\n",
    "# iterates through the first four values\n",
    "while i < 4:\n",
    "    if peninsula_south[i] > 1200:\n",
    "        print(peninsula_south[i])\n",
    "    i += 1"
   ]
  },
  {
   "cell_type": "markdown",
   "metadata": {},
   "source": [
    "There are some situations where you may wish to use a `while` loop instead of a for loop such as when you wish to specify specific list items (e.g. only values 1, and 3, etc.). However, this also comes with a disadvantage: if you iterate through values that do not exist, your loop will crash! The following loop attempts to iterate through five values, though only four exist. The result is a crash."
   ]
  },
  {
   "cell_type": "code",
   "execution_count": 22,
   "metadata": {},
   "outputs": [
    {
     "name": "stdout",
     "output_type": "stream",
     "text": [
      "1396\n",
      "1896\n",
      "2325\n"
     ]
    },
    {
     "ename": "IndexError",
     "evalue": "list index out of range",
     "output_type": "error",
     "traceback": [
      "\u001b[1;31m---------------------------------------------------------------------------\u001b[0m",
      "\u001b[1;31mIndexError\u001b[0m                                Traceback (most recent call last)",
      "Cell \u001b[1;32mIn[22], line 5\u001b[0m\n\u001b[0;32m      3\u001b[0m \u001b[38;5;66;03m# tries to iterate through the first five values. There are only four values, so it crashes.\u001b[39;00m\n\u001b[0;32m      4\u001b[0m \u001b[38;5;28;01mwhile\u001b[39;00m i \u001b[38;5;241m<\u001b[39m \u001b[38;5;241m5\u001b[39m:\n\u001b[1;32m----> 5\u001b[0m     \u001b[38;5;28;01mif\u001b[39;00m peninsula_south[i] \u001b[38;5;241m>\u001b[39m \u001b[38;5;241m1200\u001b[39m:\n\u001b[0;32m      6\u001b[0m         \u001b[38;5;28mprint\u001b[39m(peninsula_south[i])\n\u001b[0;32m      7\u001b[0m     i \u001b[38;5;241m+\u001b[39m\u001b[38;5;241m=\u001b[39m \u001b[38;5;241m1\u001b[39m\n",
      "\u001b[1;31mIndexError\u001b[0m: list index out of range"
     ]
    }
   ],
   "source": [
    "\n",
    "i = 0\n",
    "\n",
    "# tries to iterate through the first five values. There are only four values, so it crashes.\n",
    "while i < 5:\n",
    "    if peninsula_south[i] > 1200:\n",
    "        print(peninsula_south[i])\n",
    "    i += 1"
   ]
  },
  {
   "cell_type": "markdown",
   "metadata": {},
   "source": [
    "Fortunately, we have the handy `len()` function which can be used to discover the length of a list. Execute the following cell to retrieve the length of `peninsula_south`."
   ]
  },
  {
   "cell_type": "code",
   "execution_count": 25,
   "metadata": {},
   "outputs": [
    {
     "data": {
      "text/plain": [
       "4"
      ]
     },
     "execution_count": 25,
     "metadata": {},
     "output_type": "execute_result"
    }
   ],
   "source": [
    "len(peninsula_south) # returns the number of items in the list"
   ]
  },
  {
   "cell_type": "markdown",
   "metadata": {},
   "source": [
    "When combined with `while` loops, the `len()` function allows us to specify only the length of the list values. It is a best practice to use this function when creating `while` lists to prevent crashes."
   ]
  },
  {
   "cell_type": "code",
   "execution_count": 34,
   "metadata": {},
   "outputs": [
    {
     "name": "stdout",
     "output_type": "stream",
     "text": [
      "1064\n",
      "1396\n",
      "1896\n",
      "2325\n"
     ]
    }
   ],
   "source": [
    "i = 0\n",
    "\n",
    "# returns all of the values between i and the final list item\n",
    "\n",
    "while i < len(peninsula_south):\n",
    "    print(peninsula_south[i])\n",
    "    i += 1"
   ]
  },
  {
   "cell_type": "markdown",
   "metadata": {},
   "source": [
    "### *Challenge Question 1 *\n",
    "Many university interns in co-op positions in the university earn 25 per hour, which translates to approximately 3792 per month (gross). Financial advisors often recommend that people spend no more than 30\\% of their gross income on housing, which in the case of co-op students, would translate to 1140 (approximately) per month. It could be desirable to know which of the living options are below this threshold. \n",
    "\n",
    "Create a new list called `peninsula_north` which contains the values for the Bachelor, 1 Bedroom, 2 Bedroom and 3 Bedroom rental prices from the 2022 spreadsheet. Create a loop which checks each of the values and prints the value if it is less than 1140."
   ]
  },
  {
   "cell_type": "code",
   "execution_count": 43,
   "metadata": {},
   "outputs": [
    {
     "name": "stdout",
     "output_type": "stream",
     "text": [
      "882\n"
     ]
    }
   ],
   "source": [
    "# a list of rental prices for peninsula_north\n",
    "\n",
    "peninsula_north=[882, 1145, 1358, 1631]\n",
    "for Rental_Price in peninsula_north:\n",
    "    if Rental_Price < 1140:\n",
    "        print(Rental_Price)"
   ]
  },
  {
   "cell_type": "markdown",
   "metadata": {},
   "source": [
    "# Objective 2: Use a function to interpret list data\n",
    "Last week we started to use functions to interpret data. It is probably no surprise to you that functions are also extremely useful for managing structured data, such as that contained in lists. Though there are many possibilities, we will explore two ways that functions are typically used with respect to list data."
   ]
  },
  {
   "cell_type": "markdown",
   "metadata": {},
   "source": [
    "### ...functions can be used when iterating though lists \n",
    "Functions are often used to simplify your code so that you don't have to retype the code over and over. You can create functions that are used for iterating through lists and performing some sort of logic on each list item. For example, check out `checkRent()` below, which checks a rent value that is given as input and determines whether the rent is affordable."
   ]
  },
  {
   "cell_type": "code",
   "execution_count": 47,
   "metadata": {},
   "outputs": [],
   "source": [
    "def checkRent(rent): # takes a rent value as input\n",
    "    if rent < 1200: #checks whether the values is less than 877\n",
    "        print('This is affordable.')\n",
    "    else:\n",
    "        print('Not affordable.')"
   ]
  },
  {
   "cell_type": "markdown",
   "metadata": {},
   "source": [
    "We could use this function to create a simple while loop which checks the rent for each value in the list. The following code does this on the `peninsula_north` list."
   ]
  },
  {
   "cell_type": "code",
   "execution_count": 50,
   "metadata": {},
   "outputs": [
    {
     "name": "stdout",
     "output_type": "stream",
     "text": [
      "This is affordable.\n",
      "This is affordable.\n",
      "Not affordable.\n",
      "Not affordable.\n"
     ]
    }
   ],
   "source": [
    "i = 0\n",
    "\n",
    "while i < len(peninsula_north): # iterate through each list value\n",
    "    checkRent(peninsula_north[i]) # execute the checkRent function\n",
    "    i += 1"
   ]
  },
  {
   "cell_type": "markdown",
   "metadata": {},
   "source": [
    "Alternatively, we could further simplify this using a `for` loop. Consider the following code which does the same thing on `peninsula_south`. Consider changing it to check if it also works with the north!"
   ]
  },
  {
   "cell_type": "code",
   "execution_count": 53,
   "metadata": {},
   "outputs": [
    {
     "name": "stdout",
     "output_type": "stream",
     "text": [
      "This is affordable.\n",
      "Not affordable.\n",
      "Not affordable.\n",
      "Not affordable.\n"
     ]
    }
   ],
   "source": [
    "for r in peninsula_south: # loop through the values in peninsula_south\n",
    "    checkRent(r) # execute the function"
   ]
  },
  {
   "cell_type": "markdown",
   "metadata": {},
   "source": [
    "### ... functions can be used to process lists\n",
    "Additionally, functions can also take lists as input and process them and perform logic to them! For example, it could be desirable to determine whether the values of many lists meet our requirements. By taking a list as input, we could easily process both `peninsula_north` and `peninsula_south`. \n",
    "\n",
    "The `explainRent()` function below takes a `region_list` as an input and uses a loop to determine whether the values in the list are affordable."
   ]
  },
  {
   "cell_type": "code",
   "execution_count": 56,
   "metadata": {},
   "outputs": [],
   "source": [
    "i = 0\n",
    "\n",
    "def explainRent(region_list): # takes a list as input\n",
    "    i = 0\n",
    "    while i < len(region_list): # iterate through each value in the list until it reaches the length of the list\n",
    "        if i == 0:\n",
    "            print (\"A Bachelor apartment in this region costs \" + str(region_list[i]) + \" on average\")\n",
    "        else:\n",
    "            print(\"A \" + str(i) + \" bedroom apartment in this region costs \" + str(region_list[i]) + \" on average\")\n",
    "        i += 1"
   ]
  },
  {
   "cell_type": "markdown",
   "metadata": {},
   "source": [
    "We can now use the function to crunch through the `peninsula_south` list in one line! Consider modifying the code to try it for the North End as well."
   ]
  },
  {
   "cell_type": "code",
   "execution_count": 59,
   "metadata": {},
   "outputs": [
    {
     "name": "stdout",
     "output_type": "stream",
     "text": [
      "A Bachelor apartment in this region costs 1064 on average\n",
      "A 1 bedroom apartment in this region costs 1396 on average\n",
      "A 2 bedroom apartment in this region costs 1896 on average\n",
      "A 3 bedroom apartment in this region costs 2325 on average\n"
     ]
    }
   ],
   "source": [
    "explainRent(peninsula_south) # execute the function"
   ]
  },
  {
   "cell_type": "markdown",
   "metadata": {},
   "source": [
    "Finally, functions can take multiple inputs, in addition to lists. For example, rather than predefining the value that we would like to check, we could take the value as an input, giving us more flexibility. The `assessRetn()` function below similarly takes a `region_list` but also takes in a `threshold` which it uses to compare. This is very handy for calculating whether rent is affordable for various income levels!"
   ]
  },
  {
   "cell_type": "code",
   "execution_count": 62,
   "metadata": {},
   "outputs": [],
   "source": [
    "def assessRent(region_list, threshold): # takes two inputs\n",
    "    i = 0\n",
    "    while i < len(region_list): # same as before, keeps running if i is less than the length of the region lsit\n",
    "        if region_list[i] < threshold: # checks whether the value is less than the threshold\n",
    "            if i == 0:\n",
    "                print (\"A Bachelor apartment in this region costs \" + str(region_list[i]) + \" on average, which is affordable\")\n",
    "            else:\n",
    "                print(\"A \" + str(i) + \" bedroom apartment in this region costs \" + str(region_list[i]) + \" on average, which is affordable\")\n",
    "        i += 1"
   ]
  },
  {
   "cell_type": "markdown",
   "metadata": {},
   "source": [
    "Try executing the function below with different income levels (e.g. 1400). You will see how the output changes."
   ]
  },
  {
   "cell_type": "code",
   "execution_count": 65,
   "metadata": {},
   "outputs": [
    {
     "name": "stdout",
     "output_type": "stream",
     "text": [
      "A Bachelor apartment in this region costs 882 on average, which is affordable\n",
      "A 1 bedroom apartment in this region costs 1145 on average, which is affordable\n",
      "A 2 bedroom apartment in this region costs 1358 on average, which is affordable\n"
     ]
    }
   ],
   "source": [
    "assessRent(peninsula_north, 1400)"
   ]
  },
  {
   "cell_type": "markdown",
   "metadata": {},
   "source": [
    "### *Challenge Question 2 *\n",
    "The `assessRent()` function above is very handy. The only limitation is that it produces a generic response. Modify the code to do the following: \n",
    "\n",
    "* Take a third input called `region_name`, which is a string\n",
    "* Append the appropriate string contained in `region_list` to your print statement to give a context relevant response\n",
    "* Two test scenarios are provided to test your code"
   ]
  },
  {
   "cell_type": "code",
   "execution_count": 80,
   "metadata": {},
   "outputs": [],
   "source": [
    "def assessRent(region_list, threshold, region_name): \n",
    "    i = 0\n",
    "    while i < len(region_list): \n",
    "        if region_list[i] < threshold: \n",
    "            if i == 0: # modify the string response below\n",
    "                print (\"A Bachelor apartment in the \"+ region_name + \" costs \" + str(region_list[i]) + \" on average, which is affordable\")\n",
    "            else: # modify the string response below\n",
    "                print(\"A \" + str(i) + \" bedroom apartment in the \"+ region_name + \" costs \" + str(region_list[i]) + \" on average, which is affordable\")\n",
    "        i += 1"
   ]
  },
  {
   "cell_type": "markdown",
   "metadata": {},
   "source": [
    "#### Sample Test 1\n",
    "Should return\n",
    "`\"A Bachelor apartment in the peninsula north costs 882 on average, which is affordable                              \n",
    "A 1 bedroom apartment in the peninsula north costs 1145 on average, which is affordable\"`"
   ]
  },
  {
   "cell_type": "code",
   "execution_count": 83,
   "metadata": {},
   "outputs": [
    {
     "name": "stdout",
     "output_type": "stream",
     "text": [
      "A Bachelor apartment in the peninsula north costs 882 on average, which is affordable\n",
      "A 1 bedroom apartment in the peninsula north costs 1145 on average, which is affordable\n"
     ]
    }
   ],
   "source": [
    "assessRent(peninsula_north, 1200, \"peninsula north\")"
   ]
  },
  {
   "cell_type": "markdown",
   "metadata": {},
   "source": [
    "#### Sample Test 2\n",
    "Should return: \n",
    "\n",
    "`\"A Bachelor apartment in the peninsula south costs 1064 on average, which is affordable\"`"
   ]
  },
  {
   "cell_type": "code",
   "execution_count": 86,
   "metadata": {},
   "outputs": [
    {
     "name": "stdout",
     "output_type": "stream",
     "text": [
      "A Bachelor apartment in the peninsula south costs 1064 on average, which is affordable\n"
     ]
    }
   ],
   "source": [
    "assessRent(peninsula_south, 1200, \"peninsula south\")"
   ]
  },
  {
   "cell_type": "markdown",
   "metadata": {},
   "source": [
    "# Objective 3: Assess list data quality\n",
    "So far, we have used relatively clean data in our analysis. However, the majority of data that you will encounter starting next week will be... less than idea. If we observe the rental csv file, it will become clear that the CSV rows actually consist of data assessment characters following each value. Our data should actually look more similarly to that provided in `mainland_north`."
   ]
  },
  {
   "cell_type": "code",
   "execution_count": 89,
   "metadata": {},
   "outputs": [],
   "source": [
    "mainland_north = [934,\"a\",835,\"a\",1442,\"a\",1685,\"a\"] #corresponds to line 7 of the 2022 rental data"
   ]
  },
  {
   "cell_type": "markdown",
   "metadata": {},
   "source": [
    "Fortunately, list data types come with a few handy methods for solving data cleaning problems. Sweigart's Chapter 4 goes into a lot of detail (perhaps *too* much detail this time) about handy list methods, which you should read through. We will highlight a few of them here however.\n",
    "\n",
    "The index method will tell you the *first* instance of a specified value in a list. This can be very handy for figuring out where the value sits on the list so that we can modify or remove it. "
   ]
  },
  {
   "cell_type": "code",
   "execution_count": 92,
   "metadata": {},
   "outputs": [
    {
     "data": {
      "text/plain": [
       "1"
      ]
     },
     "execution_count": 92,
     "metadata": {},
     "output_type": "execute_result"
    }
   ],
   "source": [
    "mainland_north.index(\"a\")"
   ]
  },
  {
   "cell_type": "markdown",
   "metadata": {},
   "source": [
    "The `del` method is used to removing list values. Now that we know that `mainland_north[1]` is an inappropriate character, we can remove it using `del`. If we would like to use this to remove the character `\"a\"` we could do something like the following."
   ]
  },
  {
   "cell_type": "code",
   "execution_count": 95,
   "metadata": {},
   "outputs": [
    {
     "data": {
      "text/plain": [
       "[934, 835, 'a', 1442, 'a', 1685, 'a']"
      ]
     },
     "execution_count": 95,
     "metadata": {},
     "output_type": "execute_result"
    }
   ],
   "source": [
    "del mainland_north[1]\n",
    "\n",
    "mainland_north"
   ]
  },
  {
   "cell_type": "markdown",
   "metadata": {},
   "source": [
    "Alternatively, we could use the `remove` method to clean out particular values. The code below removes the first instance of the letter `a`. However, it only removes it once, so we would have to run this 3 times to get the list the way that we would like. There are more efficient ways to do this, though that may be a story for another day. "
   ]
  },
  {
   "cell_type": "code",
   "execution_count": 98,
   "metadata": {},
   "outputs": [
    {
     "data": {
      "text/plain": [
       "[934, 835, 1442, 'a', 1685, 'a']"
      ]
     },
     "execution_count": 98,
     "metadata": {},
     "output_type": "execute_result"
    }
   ],
   "source": [
    "# run me 3 times to clear the bad data!\n",
    "\n",
    "mainland_north.remove(\"a\")\n",
    "mainland_north"
   ]
  },
  {
   "cell_type": "markdown",
   "metadata": {},
   "source": [
    "Finally, it is helpful to insert values into a list. The most common method used for this task is `append` which adds the value to the end of the list. The following code appends the total average value for `Mainland north` to the list. Pretty handy!"
   ]
  },
  {
   "cell_type": "code",
   "execution_count": 101,
   "metadata": {},
   "outputs": [
    {
     "data": {
      "text/plain": [
       "[934, 835, 1442, 'a', 1685, 'a', 1371]"
      ]
     },
     "execution_count": 101,
     "metadata": {},
     "output_type": "execute_result"
    }
   ],
   "source": [
    "mainland_north.append(1371)\n",
    "mainland_north"
   ]
  },
  {
   "cell_type": "markdown",
   "metadata": {},
   "source": [
    "Alternatively, the `insert` function can be used to accomplish this task. You can read more about it in Sweigart Chapter 4."
   ]
  },
  {
   "cell_type": "markdown",
   "metadata": {},
   "source": [
    "### *Challenge Question 3 *\n",
    "The `sackville` list below contains a value of `\"**\"`. In the cell below, create code that changes this value to the string `\"Insufficient data\"`. _Note: Though you could simply re-write this list, such answers will not be accepted. Your code must remove, insert or change the value in the list below!_ "
   ]
  },
  {
   "cell_type": "code",
   "execution_count": 107,
   "metadata": {},
   "outputs": [],
   "source": [
    "sackville = [\"**\", 1306, 1302, 1624, 1341]\n",
    "#add the code here\n",
    "i=sackville.index(\"**\")\n",
    "sackville[i]=\"Insufficient data\"\n"
   ]
  },
  {
   "cell_type": "markdown",
   "metadata": {},
   "source": [
    "#### Sample Test 1\n",
    "Should return `['Insufficient data', 1306, 1302, 1624, 1341]`."
   ]
  },
  {
   "cell_type": "code",
   "execution_count": 110,
   "metadata": {},
   "outputs": [
    {
     "data": {
      "text/plain": [
       "['Insufficient data', 1306, 1302, 1624, 1341]"
      ]
     },
     "execution_count": 110,
     "metadata": {},
     "output_type": "execute_result"
    }
   ],
   "source": [
    "sackville"
   ]
  },
  {
   "cell_type": "markdown",
   "metadata": {},
   "source": [
    "# Objective 4: Make and manage a dictionary\n",
    "In addition to lists, there is a second data structure that is commonly used in Python: dictionaries. Unlike lists which use the list order to determine the sequence of values, dictionaries use a key-value pair structure. There are no \"first\" items in a dictionary; instead, all of the values stored are mapped with keys.\n",
    "\n",
    "Sometimes it is better to simply see things in action. The data for `peninsula_south` have been re-written into a dictionary, this time with keys (i.e. `Bach`, `1Bdr`) mapping to their respective values (i.e. `851`, `1093`). Try running the code below to set up your dictionary."
   ]
  },
  {
   "cell_type": "code",
   "execution_count": 113,
   "metadata": {},
   "outputs": [],
   "source": [
    "peninsula_south = {'Bach': 965, '1Bdr': 1313, '2Bdr': 1751, '3Bdr': 2183}"
   ]
  },
  {
   "cell_type": "markdown",
   "metadata": {},
   "source": [
    "To retrieve a dictionary value, we simply need to specify the key that we are looking for! The line below retrieves the value for bachelor apartments. Consider modifying it to retrieve 1 bedrooms."
   ]
  },
  {
   "cell_type": "code",
   "execution_count": 116,
   "metadata": {},
   "outputs": [
    {
     "data": {
      "text/plain": [
       "965"
      ]
     },
     "execution_count": 116,
     "metadata": {},
     "output_type": "execute_result"
    }
   ],
   "source": [
    "peninsula_south['Bach']"
   ]
  },
  {
   "cell_type": "code",
   "execution_count": 118,
   "metadata": {},
   "outputs": [
    {
     "name": "stdout",
     "output_type": "stream",
     "text": [
      "965\n",
      "1313\n",
      "1751\n",
      "2183\n"
     ]
    }
   ],
   "source": [
    "keys = ['Bach','1Bdr','2Bdr','3Bdr']\n",
    "\n",
    "for i in keys:\n",
    "    print(peninsula_south[i])"
   ]
  },
  {
   "cell_type": "markdown",
   "metadata": {},
   "source": [
    "Similarly to lists, dictionaries can be taken as inputs to functions or can be iterated through using key-value pairs."
   ]
  },
  {
   "cell_type": "code",
   "execution_count": 121,
   "metadata": {},
   "outputs": [],
   "source": [
    "def assessRent(region_dictionary,key):\n",
    "    for i in region_dictionary.keys():\n",
    "        if str(i)==key:\n",
    "            if region_dictionary[i] < 1500:\n",
    "                print (str(i) + \" in this region costs \" + str(region_dictionary[i]) + \" and is affordable\")\n",
    "            else:\n",
    "                print(str(i) +\" bedroom apartment in this region costs \" + str(region_dictionary[i]) + \" and is unaffordable\")\n"
   ]
  },
  {
   "cell_type": "code",
   "execution_count": 123,
   "metadata": {},
   "outputs": [
    {
     "name": "stdout",
     "output_type": "stream",
     "text": [
      "3Bdr bedroom apartment in this region costs 2183 and is unaffordable\n"
     ]
    }
   ],
   "source": [
    "assessRent(peninsula_south, '3Bdr')"
   ]
  },
  {
   "cell_type": "markdown",
   "metadata": {},
   "source": [
    "### *Challenge Question 4 *\n",
    "Create function called `assessRent()` which does the following:\n",
    "* Takes three inputs: \n",
    "    * region_dictionary (dictionary)\n",
    "    * key (string)\n",
    "    * threshold (integer)\n",
    "* Assesses whether the inputted key-dictionary pair is less than threshold\n",
    "* Returns the value, and whether the apartment was affordable"
   ]
  },
  {
   "cell_type": "code",
   "execution_count": 140,
   "metadata": {},
   "outputs": [],
   "source": [
    "def assessRent(region_dictionary, key, threshold): # the start of the function\n",
    "    #[insert code here]\n",
    "    for i in region_dictionary.keys():\n",
    "        if str(i)==key:\n",
    "            if region_dictionary[i] < threshold:\n",
    "                return (str(i) + \" in this region costs \" + str(region_dictionary[i]) + \" and is affordable for this person\")\n",
    "            else:\n",
    "                return (str(i) + \" bedroom apartment in this region costs \" + str(region_dictionary[i]) + \" and is unaffordable for this person\")"
   ]
  },
  {
   "cell_type": "markdown",
   "metadata": {},
   "source": [
    "#### Sample Test 1\n",
    "Should return `\"1Bdr in this region costs 1145 and is unaffordable for this person.\"`."
   ]
  },
  {
   "cell_type": "code",
   "execution_count": 143,
   "metadata": {},
   "outputs": [
    {
     "data": {
      "text/plain": [
       "'1Bdr bedroom apartment in this region costs 1145 and is unaffordable for this person'"
      ]
     },
     "execution_count": 143,
     "metadata": {},
     "output_type": "execute_result"
    }
   ],
   "source": [
    "peninsula_north = {'Bach': 882, '1Bdr': 1145, '2Bdr': 1358, '3Bdr': 1631} # values extracted from the spreadsheet\n",
    "\n",
    "assessRent(peninsula_north, '1Bdr', 1000)"
   ]
  },
  {
   "cell_type": "markdown",
   "metadata": {},
   "source": [
    "#### Sample Test 2\n",
    "Should return `\"2Bdr in this region costs 1358 and is affordable for this person.\"`"
   ]
  },
  {
   "cell_type": "code",
   "execution_count": 146,
   "metadata": {},
   "outputs": [
    {
     "data": {
      "text/plain": [
       "'2Bdr in this region costs 1358 and is affordable for this person'"
      ]
     },
     "execution_count": 146,
     "metadata": {},
     "output_type": "execute_result"
    }
   ],
   "source": [
    "assessRent(peninsula_north, '2Bdr', 1500)"
   ]
  },
  {
   "cell_type": "markdown",
   "metadata": {},
   "source": [
    "# Objective 5: Analyze where rent is growing fastest\n",
    "Perhaps the most powerful feature of the dictionary data structure is that they can be nested within itself. Python dictionaries are structured similarly to JSON, and are designed to allow users to next dictionaries within other dictionaries. For example, we could store both the values for `Peninsula South` and `Peninsula North` inside of a larger `halifax` dictionary using the key-value architecture."
   ]
  },
  {
   "cell_type": "code",
   "execution_count": 149,
   "metadata": {},
   "outputs": [],
   "source": [
    "# 2020 data\n",
    "\n",
    "halifax = {\n",
    "        'Peninsula South': {'Bach': 930, '1Bdr': 1256, '2Bdr': 1756, '3Bdr': 2029},\n",
    "        'Peninsula North' : {'Bach': 824, '1Bdr': 1036, '2Bdr': 1264, '3Bdr': 1476},\n",
    "    }\n"
   ]
  },
  {
   "cell_type": "markdown",
   "metadata": {},
   "source": [
    "This allows us to navigate across many data values. In Python, you can navigate between nested keys by simply writing the nested key adjacent to the key from the first level. The code below will give you the value for the Bachelor apartments in the South End, though you can also use it to retrieve values such as 1 Bedrooms in the North end if you would like. Give it a try!"
   ]
  },
  {
   "cell_type": "code",
   "execution_count": 152,
   "metadata": {},
   "outputs": [
    {
     "data": {
      "text/plain": [
       "930"
      ]
     },
     "execution_count": 152,
     "metadata": {},
     "output_type": "execute_result"
    }
   ],
   "source": [
    "halifax['Peninsula South']['Bach']"
   ]
  },
  {
   "cell_type": "markdown",
   "metadata": {},
   "source": [
    "If we wanted to, we could further expand our dictionary to encompass years. For example, the following dictionary contains 3 levels: years, locations, and apartment types. "
   ]
  },
  {
   "cell_type": "code",
   "execution_count": 155,
   "metadata": {},
   "outputs": [],
   "source": [
    "# corresponds to the 2021 and 2022 data from two CSV files\n",
    "\n",
    "halifax_rentals = {\n",
    "  '2021': {\n",
    "        'Peninsula South': {'Bach': 965, '1Bdr': 1313, '2Bdr': 1751, '3Bdr': 2183},\n",
    "        'Peninsula North' : {'Bach': 916, '1Bdr': 1104, '2Bdr': 1333, '3Bdr': 1536},\n",
    "    },\n",
    "    '2022': {\n",
    "        'Peninsula South': {'Bach': 1064, '1Bdr': 1396, '2Bdr': 1896, '3Bdr': 2325},\n",
    "        'Peninsula North': {'Bach': 882, '1Bdr': 1145, '2Bdr': 1358, '3Bdr': 1631},\n",
    "     \n",
    "    }\n",
    "}"
   ]
  },
  {
   "cell_type": "markdown",
   "metadata": {},
   "source": [
    "We can also navigate through this dictionary using the three levels of keys. The following code gives us the data about 1 bedroom apartment rentals in the north end in 2018.   "
   ]
  },
  {
   "cell_type": "code",
   "execution_count": 158,
   "metadata": {},
   "outputs": [
    {
     "data": {
      "text/plain": [
       "1104"
      ]
     },
     "execution_count": 158,
     "metadata": {},
     "output_type": "execute_result"
    }
   ],
   "source": [
    "halifax_rentals['2021']['Peninsula North']['1Bdr']"
   ]
  },
  {
   "cell_type": "markdown",
   "metadata": {},
   "source": [
    "Similarly, if we wished to compare multiple years, we could simply print the values from multiple dictionary entries. The example below prints the 1 Bedroom apartment values in the north end from 2018 and 2019. \n",
    "\n",
    "_Note, this is actually one line of code that is broken apart for readability. You can break apart strings into multiple lines in Python_. "
   ]
  },
  {
   "cell_type": "code",
   "execution_count": 161,
   "metadata": {},
   "outputs": [
    {
     "name": "stdout",
     "output_type": "stream",
     "text": [
      "Rentals on the peninsula north region for 1 Bdr were 1104 in 2021 and 1145 in 2022.\n"
     ]
    }
   ],
   "source": [
    "print(\"Rentals on the peninsula north region for 1 Bdr were \" \n",
    "      + str(halifax_rentals['2021']['Peninsula North']['1Bdr']) \n",
    "      + \" in 2021 and \" + str(halifax_rentals['2022']['Peninsula North']['1Bdr']) + \" in 2022.\")"
   ]
  },
  {
   "cell_type": "markdown",
   "metadata": {},
   "source": [
    "### *Challenge Question 5 *\n",
    "Create a function called compareRent which compares the growth of rent for a particular region and apartment pairing between two years. The function should do the following:\n",
    "* Take five inputs:\n",
    "    * data (dictionary)\n",
    "    * region (string)\n",
    "    * apartment (string)\n",
    "    * year1 (string)\n",
    "    * year2 (string)\n",
    "* It should calculate the percent growth (year 2's value minus year 1's value divide by year 2's value)\n",
    "* It should convert this calculated value into a percentage (by multiplying it by 100)\n",
    "* The percentage should be rounded to two spaces\n",
    "* The function should return a string that specifies the apartment type, region, and years\n",
    "\n",
    "Pro Tip: When this function is done, you can use it to analyze apartments in regions that interset you!"
   ]
  },
  {
   "cell_type": "code",
   "execution_count": 173,
   "metadata": {},
   "outputs": [],
   "source": [
    "halifax_rentals = {\n",
    "    \n",
    "  '2021': {\n",
    "        'Peninsula South': {'Bach': 965, '1Bdr': 1313, '2Bdr': 1751, '3Bdr': 2183},\n",
    "        'Peninsula North' : {'Bach': 916, '1Bdr': 1104, '2Bdr': 1333, '3Bdr': 1536},\n",
    "    },\n",
    "    '2022': {\n",
    "        'Peninsula South': {'Bach': 1064, '1Bdr': 1396, '2Bdr': 1896, '3Bdr': 2325},\n",
    "        'Peninsula North': {'Bach': 882, '1Bdr': 1145, '2Bdr': 1358, '3Bdr': 1631},\n",
    "     \n",
    "    }\n",
    "}\n",
    "\n",
    "\n",
    "def compareRent(data, region, apartment, year1, year2):\n",
    "      #[insert code here]\n",
    "    rent1=data[year1][region][apartment]\n",
    "    rent2=data[year2][region][apartment]\n",
    "    growth=((rent2-rent1)/rent1)*100\n",
    "    growth=round(growth,2)\n",
    "    return (\"Rent for \"+ apartment+ \" in \"+ region+ \" grew by \"+ str(growth)+\"% between \"+ year1+ \" and \"+ year2)\n",
    "    "
   ]
  },
  {
   "cell_type": "markdown",
   "metadata": {},
   "source": [
    "#### Sample Test 1\n",
    "Should return `\"Rent for 1Bdr in Peninsula South grew by 3.6% between 2021 and 2022\"`"
   ]
  },
  {
   "cell_type": "code",
   "execution_count": 176,
   "metadata": {},
   "outputs": [
    {
     "data": {
      "text/plain": [
       "'Rent for 1Bdr in Peninsula South grew by 6.32% between 2021 and 2022'"
      ]
     },
     "execution_count": 176,
     "metadata": {},
     "output_type": "execute_result"
    }
   ],
   "source": [
    "compareRent(halifax_rentals, 'Peninsula South', '1Bdr', '2021', '2022')"
   ]
  },
  {
   "cell_type": "markdown",
   "metadata": {},
   "source": [
    "#### Sample Test 2\n",
    "Should return `\"Rent for 3Bdr in Peninsula North grew by 5.8% between 2021 and 2022\"`"
   ]
  },
  {
   "cell_type": "code",
   "execution_count": 179,
   "metadata": {},
   "outputs": [
    {
     "data": {
      "text/plain": [
       "'Rent for 3Bdr in Peninsula North grew by 6.18% between 2021 and 2022'"
      ]
     },
     "execution_count": 179,
     "metadata": {},
     "output_type": "execute_result"
    }
   ],
   "source": [
    "compareRent(halifax_rentals, 'Peninsula North', '3Bdr', '2021', '2022')"
   ]
  },
  {
   "cell_type": "markdown",
   "metadata": {},
   "source": [
    "# References\n",
    "Canada Mortgage and Housing Corporation (19 January 2020). Housing Market Information Portal. Retrieved from: https://www03.cmhc-schl.gc.ca/hmip-pimh/en#TableMapChart/0580/3/Halifax%20CMA"
   ]
  }
 ],
 "metadata": {
  "kernelspec": {
   "display_name": "Python [conda env:base] *",
   "language": "python",
   "name": "conda-base-py"
  },
  "language_info": {
   "codemirror_mode": {
    "name": "ipython",
    "version": 3
   },
   "file_extension": ".py",
   "mimetype": "text/x-python",
   "name": "python",
   "nbconvert_exporter": "python",
   "pygments_lexer": "ipython3",
   "version": "3.12.7"
  }
 },
 "nbformat": 4,
 "nbformat_minor": 4
}
