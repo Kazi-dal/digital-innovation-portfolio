{
 "cells": [
  {
   "cell_type": "markdown",
   "metadata": {
    "tags": []
   },
   "source": [
    "# Lab 1 - Basics of Python\n",
    "*© 2025(Authors: Colin Conrad and Pallavi Gone)*\n",
    "\n",
    "Welcome to Week 1 of ECMM 6014, Databases, Data Warehouses and Data Mining For Electronic Commerce! If you got this far, it means that you have successfully launched and/or configured the Jupyter Notebook, likely using the Anaconda framework. Now that we are up and running, it is time to introduce you to some of the key concepts. Much of the material that we will explore in the first few weeks has been covered by [Sweigart (2014)](https://automatetheboringstuff.com/). We are not going to rip off Sweigart's (rather excellent) book, but will build on many of the concepts he explores.\n",
    "\n",
    "**This week, we will achieve the following objectives:**\n",
    "\n",
    "- Run basic Python scripts\n",
    "- Assign Python variables\n",
    "- Perform basic string manipulation\n",
    "- Specify conditional controls\n",
    "- Loop across string characters\n",
    "- Defining Functions\n",
    "\n",
    "Reference reading: Sweigart (2014) Ch. 0, 1, 2 and 3"
   ]
  },
  {
   "cell_type": "markdown",
   "metadata": {},
   "source": [
    "## Objective 1 - Run basic Python scripts\n",
    "As you know by now, Python is a high level programming language designed to emphasize readability. There are many reasons why someone might want to use Python, though the main reasons why we have opted to use Python in this course is that it has an extensive list of data science libraries. In fact, you are likely currently using Anaconda, a set of Python tools designed specifically for our use case. \n",
    "\n",
    "Traditionally, the very first thing that people do when learning a new programming language is learn how to print `hello world!`. In Python, this is really straight forward. Try running the following code by selecting the cell and clicking `Run` (alternatively, you can select `shift + enter`)."
   ]
  },
  {
   "cell_type": "code",
   "execution_count": 1,
   "metadata": {},
   "outputs": [
    {
     "name": "stdout",
     "output_type": "stream",
     "text": [
      "hello world!\n"
     ]
    }
   ],
   "source": [
    "#prints 'hello world!'\n",
    "print('hello world!')"
   ]
  },
  {
   "cell_type": "markdown",
   "metadata": {
    "tags": []
   },
   "source": [
    "Congratulations, you probably just run your first Python script! This is a bigger accomplishment than you might think. You have taken your first steps into the wonderful world of code.\n",
    "\n",
    "Let's break down the concepts above a bit. First, you probably see the `#prints 'hello world!'` bit at the top. This is a comment. Comments are cool because they describe the code that you are executing, without themselves being executed. These are an essential part of writing good code because they tell other readers what the code does. It might seem silly at first, but once you start collaborating with other people you *will* understand the value of comments.\n",
    "\n",
    "The second thing worth discussing is the `print('hello world!')` bit. Python's `print()` function is a default function in Python which prints the string contained within the parentheses in the console. This is super handy when trying to debug code, and serves as a great starting point for our tutorial.\n",
    "\n",
    "### *Challenge Question 1*\n",
    "Can you write a script to print the phrase `ECMM 6014 is awesome!`? Use the cell below to complete this task."
   ]
  },
  {
   "cell_type": "code",
   "execution_count": 5,
   "metadata": {},
   "outputs": [
    {
     "name": "stdout",
     "output_type": "stream",
     "text": [
      "ECMM 6014 is awesome!\n"
     ]
    }
   ],
   "source": [
    "# prints 'ECMM 6014 is awesome!'\n",
    "print(\"ECMM 6014 is awesome!\")\n"
   ]
  },
  {
   "cell_type": "markdown",
   "metadata": {},
   "source": [
    "## Objective 2 - Assign Python variables\n",
    "So far so good! Let's go back to Python and explore three fundamental concepts before calling it a day. As you likely read from [Sweigart (2014)](https://automatetheboringstuff.com/), programming languages can store data in the form of variables. In Python, variables can consist of many different types of data, such as: numbers (called 'variables'), decimals (called 'floats'), words (called 'strings), and more complex data structures which we will explore later. Using data stored in variables, we can create code that does virtually anything that we can imagine!\n"
   ]
  },
  {
   "cell_type": "code",
   "execution_count": 11,
   "metadata": {},
   "outputs": [],
   "source": [
    "aplus_threshold = 90.0 # specifies the minimum grade for A+ in ECMM 6014\n",
    "course_title = \"ECMM 6014\" # strings\n",
    "credit_enrollment = 20"
   ]
  },
  {
   "cell_type": "markdown",
   "metadata": {},
   "source": [
    "Great work! Python has now saved a variable called `credit_enrollment` and knows that its value is the interger `15`. Try running the code below to see if Python remembers the number of people enrolled."
   ]
  },
  {
   "cell_type": "code",
   "execution_count": 9,
   "metadata": {},
   "outputs": [
    {
     "name": "stdout",
     "output_type": "stream",
     "text": [
      "20\n"
     ]
    }
   ],
   "source": [
    "print (credit_enrollment)"
   ]
  },
  {
   "cell_type": "markdown",
   "metadata": {},
   "source": [
    "This is good. Lets assume, one of the students in this class is actually aduiting the course, rather than taking it for credit. If we wanted to store this data properly, we might want to create three variables: one containing the enrollment for credit, one containing the audit enrollment, and one creating the total enrollment. Let's try expressing them using the code below. "
   ]
  },
  {
   "cell_type": "code",
   "execution_count": 13,
   "metadata": {},
   "outputs": [],
   "source": [
    "credit_enrollment = 20 #the number taking the course for credit\n",
    "\n",
    "audit_enrollment = 1 #the number auditing the course\n",
    "\n",
    "total_enrollment = credit_enrollment + audit_enrollment # the total number attending the course\n"
   ]
  },
  {
   "cell_type": "markdown",
   "metadata": {},
   "source": [
    "Finally, if we wanted to retrieve any of these variables, you can do so any time in Jupyter. For exmaple:"
   ]
  },
  {
   "cell_type": "code",
   "execution_count": 15,
   "metadata": {},
   "outputs": [
    {
     "name": "stdout",
     "output_type": "stream",
     "text": [
      "20\n",
      "1\n",
      "21\n"
     ]
    }
   ],
   "source": [
    "print(credit_enrollment)\n",
    "print(audit_enrollment)\n",
    "print(total_enrollment)\n"
   ]
  },
  {
   "cell_type": "markdown",
   "metadata": {},
   "source": [
    "Another handy feature of Python is that strings can be easily concatenated. In Python, we can concatenate strings by simply using the `+` character. If we wanted to add the name of the course to the course title, we can easily do that."
   ]
  },
  {
   "cell_type": "code",
   "execution_count": 17,
   "metadata": {},
   "outputs": [
    {
     "name": "stdout",
     "output_type": "stream",
     "text": [
      "Total enrollment: 21\n"
     ]
    }
   ],
   "source": [
    "#total_enrollment\n",
    "print(\"Total enrollment: \" + str(total_enrollment))"
   ]
  },
  {
   "cell_type": "markdown",
   "metadata": {},
   "source": [
    "Awesome! It's also worth noting that the same concepts apply to all data that is saved in variables. If we wanted to save floats (decimals) or strings (text), we can likewise do the following:"
   ]
  },
  {
   "cell_type": "markdown",
   "metadata": {},
   "source": [
    "### *Challenge Question 2*\n",
    "- Create a `first_Name` variable to store your first name. \n",
    "- Create a `last_name` variable containing your last name\n",
    "- Create a `full_name` variable containing the concatenation of `last_name` and `full_name`\n",
    "- Uses the `print()` function to print a string that contains your full name followed by 'is a student in ECMM 6014' "
   ]
  },
  {
   "cell_type": "code",
   "execution_count": 23,
   "metadata": {},
   "outputs": [
    {
     "name": "stdout",
     "output_type": "stream",
     "text": [
      "Alam Kazi is a student in ECMM 6014\n"
     ]
    }
   ],
   "source": [
    "# Sample output:\n",
    "# Pallavi Gone is a student in ECMM 6014\n",
    "first_name = \"Kazi\"\n",
    "last_name = \"Alam \"\n",
    "full_name = last_name + first_name\n",
    "print(full_name + \" is a student in ECMM 6014\")\n"
   ]
  },
  {
   "cell_type": "markdown",
   "metadata": {},
   "source": [
    "## Objective 3 - Perform basic string manipulation\n",
    "One of the most interesting features of Python is the way that strings are stored. As mentioned earlier, strings consist of a series of characters that are often stored in a variable. Python has a number of default features that make it easy to change strings to suit our needs. For instance, Python treats strings as a series of elements (often called an 'array') which makes it easy to break them apart. If we wanted to retrieve the first character in the `course_title` string, we could easily retrieve it by using the following code."
   ]
  },
  {
   "cell_type": "code",
   "execution_count": 25,
   "metadata": {},
   "outputs": [
    {
     "data": {
      "text/plain": [
       "'a'"
      ]
     },
     "execution_count": 25,
     "metadata": {},
     "output_type": "execute_result"
    }
   ],
   "source": [
    "course_title= \"Databases, Data warehouses and Data Mining For Electronic Commerce\"\n",
    "course_title[5] #retrieves the second character in the string"
   ]
  },
  {
   "cell_type": "code",
   "execution_count": 27,
   "metadata": {},
   "outputs": [
    {
     "data": {
      "text/plain": [
       "'Databases'"
      ]
     },
     "execution_count": 27,
     "metadata": {},
     "output_type": "execute_result"
    }
   ],
   "source": [
    "course_title [0:9]"
   ]
  },
  {
   "cell_type": "markdown",
   "metadata": {},
   "source": [
    "### *Challenge Question 3*\n",
    "- Perform string manipulation and retrieve 'Electronic Comm' from  the `course_title` string\n"
   ]
  },
  {
   "cell_type": "code",
   "execution_count": 35,
   "metadata": {},
   "outputs": [
    {
     "data": {
      "text/plain": [
       "'Electronic Comm'"
      ]
     },
     "execution_count": 35,
     "metadata": {},
     "output_type": "execute_result"
    }
   ],
   "source": [
    "# print 'Electronic Comm'\n",
    "course_title [47:62]"
   ]
  },
  {
   "cell_type": "markdown",
   "metadata": {},
   "source": [
    "Python also comes with a number of default functions designed for string manupulation. We have already seen the `print()` function, which is one such example. Print typically prints the string values that are contained in the function's parentheses. Another handy function is `len()`, which gives us the length of a string. "
   ]
  },
  {
   "cell_type": "code",
   "execution_count": 37,
   "metadata": {},
   "outputs": [
    {
     "data": {
      "text/plain": [
       "66"
      ]
     },
     "execution_count": 37,
     "metadata": {},
     "output_type": "execute_result"
    }
   ],
   "source": [
    "len(course_title)"
   ]
  },
  {
   "cell_type": "code",
   "execution_count": 39,
   "metadata": {},
   "outputs": [
    {
     "name": "stdin",
     "output_type": "stream",
     "text": [
      "Enter A value 20\n",
      "Enter B value 10\n"
     ]
    },
    {
     "name": "stdout",
     "output_type": "stream",
     "text": [
      "Concatination of strings: 2010\n",
      "Addition: 30\n"
     ]
    }
   ],
   "source": [
    "a = input(\"Enter A value\")\n",
    "b = input(\"Enter B value\")\n",
    "add1 = a+b\n",
    "print(\"Concatination of strings: \" +add1)\n",
    "add2 = int(a) + int(b)\n",
    "print(\"Addition: \" + str(add2))"
   ]
  },
  {
   "cell_type": "markdown",
   "metadata": {},
   "source": [
    "These are just the basics of string manipulation, though we will regularly return to these concepts. Take some time to explore them, and do not hesitate to refer to the Python documentation if you get stuck!"
   ]
  },
  {
   "cell_type": "markdown",
   "metadata": {},
   "source": [
    "## Objective 4 - Specify Control Statements\n",
    "\n",
    "\n",
    "### *if Statement*\n",
    "\n",
    "\n",
    "Using python, we can perform logical and conditional operations from mathematics such as `a == b` `a != b` `a < b` `a <= b` `a > b` `a >= b`\n",
    "\n",
    "These conditions can be used in `if statements`. The if statement is written using `if` keyword followed by `condition`\n",
    "\n",
    "\n",
    "\n",
    "\n"
   ]
  },
  {
   "cell_type": "code",
   "execution_count": 41,
   "metadata": {},
   "outputs": [],
   "source": [
    "My_percentage = 60"
   ]
  },
  {
   "cell_type": "code",
   "execution_count": 43,
   "metadata": {},
   "outputs": [
    {
     "name": "stdout",
     "output_type": "stream",
     "text": [
      "I Failed ECMM 6014! \n"
     ]
    }
   ],
   "source": [
    "if My_percentage >= 70: # a condition which could be met\n",
    "    print(\"I passed ECMM 6014!\")\n",
    "else: # if anything else happens\n",
    "    print(\"I Failed ECMM 6014! \")\n",
    "        "
   ]
  },
  {
   "cell_type": "markdown",
   "metadata": {},
   "source": [
    "This is an example of a conditional statement. It is conditional, in the sense that there are different expressions which are triggered depending on whether particular conditions are met. In this case, the `if My_percentage >= 60` condition triggers a different condition than when anything `else` is met. Try changing the percentage to `My_percentage = \"86\"` and see how the output changes.\n",
    "\n",
    "It is not difficult to see how conditionals can come in handy. Sweigart outlines a variety of logical conditions, which we will not get into for this course. However, just know that these adhere to the basic boolean operators: *and, or, not, if, if and only if*. These are the fundamental building blocks of Boole's logic.\n",
    "\n",
    "There are situations, where multiple conditions are required. we use `elif` to state such conditions, the below example used five conditions for grading a student based on `percentage`. "
   ]
  },
  {
   "cell_type": "code",
   "execution_count": 45,
   "metadata": {},
   "outputs": [],
   "source": [
    "My_percentage = 86"
   ]
  },
  {
   "cell_type": "code",
   "execution_count": 47,
   "metadata": {},
   "outputs": [
    {
     "name": "stdout",
     "output_type": "stream",
     "text": [
      "Grade A\n"
     ]
    }
   ],
   "source": [
    "if My_percentage >= 70 and My_percentage <=72: # condition1\n",
    "    print(\"Grade B-\")\n",
    "elif My_percentage >= 73 and My_percentage <=76: # condition2\n",
    "    print(\"Grade B\")\n",
    "elif My_percentage >= 77 and My_percentage <=79: # condition2\n",
    "    print(\"Grade B\")\n",
    "elif My_percentage >= 80 and My_percentage <=84: # condition3\n",
    "    print(\"Grade A-\")\n",
    "elif My_percentage >= 85 and My_percentage <=89: # condition4\n",
    "    print(\"Grade A\")\n",
    "elif My_percentage >= 90: #condition5\n",
    "    print(\"Grade A+\")    \n",
    "else: # if anything else happens\n",
    "    print(\"Fail\")"
   ]
  },
  {
   "cell_type": "markdown",
   "metadata": {},
   "source": [
    "`My_percentage = 86` met fifth condition 5  `My_percentage >= 85 and My_percentage <=89` and prints `Grade A` as output.\n",
    "Try changing the value of `My_percentage' and see how the output changes."
   ]
  },
  {
   "cell_type": "markdown",
   "metadata": {},
   "source": [
    "### *Challenge Question 4*\n",
    "\n",
    "Complete below code to develop a simple calculator\n",
    "\n",
    "Your answer should:\n",
    "- Use input() to take number 1 and number 2\n",
    "- Use input() to take the operation ( + or - or * or / )\n",
    "- Use if conditions for each operation\n",
    "- Refer to objective 3 for sample addition code \n"
   ]
  },
  {
   "cell_type": "code",
   "execution_count": 67,
   "metadata": {},
   "outputs": [
    {
     "name": "stdin",
     "output_type": "stream",
     "text": [
      "Enter a first number 1\n",
      "Enter a second number 2\n",
      "Choose operation: + - * /  0\n"
     ]
    },
    {
     "name": "stdout",
     "output_type": "stream",
     "text": [
      "error\n"
     ]
    }
   ],
   "source": [
    "number1 = input(\"Enter a first number\")\n",
    "number2 = input(\"Enter a second number\")\n",
    "operation = input(\"Choose operation: + - * / \")\n",
    "#### complete the code ###\n",
    "if operation == \"+\":\n",
    "    print(int(number1) + int(number2))\n",
    "elif operation == \"-\":\n",
    "    print(int(number1) - int(number2))\n",
    "elif operation == \"*\":\n",
    "    print(int(number1) * int(number2))\n",
    "elif operation == \"/\":\n",
    "    print(int(number1) / int(number2))\n",
    "else: \n",
    "    print(\"error\")"
   ]
  },
  {
   "cell_type": "markdown",
   "metadata": {},
   "source": [
    "## Objective 5: Loop statements\n",
    "\n",
    "### *while Statement*\n",
    "\n",
    "`while loop` is used to repeatedly execute a set of statements as long as the condition is true. Execute the below example to print the even numbers from 1 to 10. `While statement` is used here to repeatedly execute the statement until num = 10.\n",
    "\n"
   ]
  },
  {
   "cell_type": "code",
   "execution_count": 69,
   "metadata": {},
   "outputs": [
    {
     "name": "stdout",
     "output_type": "stream",
     "text": [
      "Found an even number 2\n",
      "Found an even number 4\n",
      "Found an even number 6\n",
      "Found an even number 8\n",
      "Found an even number 10\n"
     ]
    }
   ],
   "source": [
    "num = 1\n",
    "\n",
    "while num <= 10: # iterates until num == 10\n",
    "    if num % 2 == 0:\n",
    "        print(\"Found an even number\", num)\n",
    "    num += 1"
   ]
  },
  {
   "cell_type": "markdown",
   "metadata": {},
   "source": [
    "### *for Statement*\n",
    "A `for loop` is used for iterating over a sequence. It executes a set of statements once for each time in a set or string. The `range() function` is used to specify the range of the number. The `for loop` in the below example iterates the loop until the num value range from 1 to 10\n"
   ]
  },
  {
   "cell_type": "code",
   "execution_count": 1,
   "metadata": {},
   "outputs": [
    {
     "name": "stdout",
     "output_type": "stream",
     "text": [
      "Found an even number 2\n",
      "Found an even number 4\n",
      "Found an even number 6\n",
      "Found an even number 8\n"
     ]
    }
   ],
   "source": [
    "for num in range(1, 10): # iterates from 1 to 10\n",
    "    if num % 2 == 0:\n",
    "        print(\"Found an even number\", num) # iterates until hours ==10\n",
    "    "
   ]
  },
  {
   "cell_type": "markdown",
   "metadata": {},
   "source": [
    "Though both types of loops are handy, `for` loops are particularly useful when iterating across data. For example, as you likely recall from the objective 3, one of the nice features of Python is that you can pick out characters from a string using its array sequence."
   ]
  },
  {
   "cell_type": "code",
   "execution_count": 71,
   "metadata": {},
   "outputs": [
    {
     "name": "stdout",
     "output_type": "stream",
     "text": [
      "E\n",
      "C\n",
      "M\n",
      "M\n",
      " \n",
      "6\n",
      "0\n",
      "1\n",
      "4\n"
     ]
    }
   ],
   "source": [
    "course_code = \"ECMM 6014\"\n",
    "\n",
    "for i in course_code: # prints each subsequent character in the civic address\n",
    "    print(i)"
   ]
  },
  {
   "cell_type": "markdown",
   "metadata": {},
   "source": [
    "## Objective 6 - Defining Functions\n",
    "\n"
   ]
  },
  {
   "cell_type": "markdown",
   "metadata": {},
   "source": [
    "A function is a block of code that will run only when it is called. The keyword `def` introduces a `function definition`. It must be followed by the `function name` and the `parenthesized list` of formal parameters. The statements that form the body of the function start at the next line, and must be `indented`."
   ]
  },
  {
   "cell_type": "code",
   "execution_count": 3,
   "metadata": {},
   "outputs": [],
   "source": [
    "def myfunction():\n",
    "    print(\"Hello! this is my function\")"
   ]
  },
  {
   "cell_type": "markdown",
   "metadata": {},
   "source": [
    "The function `my_function()` is defined using the keyword `def`. Now, its time to run the definition to print the statement \"Hello! this is my function\"."
   ]
  },
  {
   "cell_type": "code",
   "execution_count": 86,
   "metadata": {},
   "outputs": [
    {
     "name": "stdout",
     "output_type": "stream",
     "text": [
      "Hello! this is my function\n"
     ]
    }
   ],
   "source": [
    "myfunction()"
   ]
  },
  {
   "cell_type": "code",
   "execution_count": 5,
   "metadata": {},
   "outputs": [],
   "source": [
    "def addition(number1, number2):\n",
    "    sum = number1 + number2\n",
    "    return(sum)"
   ]
  },
  {
   "cell_type": "markdown",
   "metadata": {},
   "source": [
    "The this example defined `addition function` followed by two parameters `number1` and `number2` to add the numbers. `return` is used to return the result. Now, we need to run the definition with the two numbers in the paranthesis."
   ]
  },
  {
   "cell_type": "code",
   "execution_count": 92,
   "metadata": {},
   "outputs": [
    {
     "data": {
      "text/plain": [
       "10"
      ]
     },
     "execution_count": 92,
     "metadata": {},
     "output_type": "execute_result"
    }
   ],
   "source": [
    "addition(8,2)"
   ]
  },
  {
   "cell_type": "markdown",
   "metadata": {},
   "source": [
    "Similarly, let's define the functions for `substraction` , `multiplication` and `division` and run each definition with two values."
   ]
  },
  {
   "cell_type": "code",
   "execution_count": 97,
   "metadata": {},
   "outputs": [],
   "source": [
    "def substraction(number1, number2):\n",
    "    sub = number1 - number2\n",
    "    return(sub)\n",
    "def multiplication(number1, number2):\n",
    "    mul = number1 * number2\n",
    "    return(mul)\n",
    "def division(number1, number2):\n",
    "    div = number1/number2\n",
    "    return(div)"
   ]
  },
  {
   "cell_type": "code",
   "execution_count": 99,
   "metadata": {},
   "outputs": [
    {
     "data": {
      "text/plain": [
       "9"
      ]
     },
     "execution_count": 99,
     "metadata": {},
     "output_type": "execute_result"
    }
   ],
   "source": [
    "substraction(12,3)"
   ]
  },
  {
   "cell_type": "code",
   "execution_count": 101,
   "metadata": {},
   "outputs": [
    {
     "data": {
      "text/plain": [
       "36"
      ]
     },
     "execution_count": 101,
     "metadata": {},
     "output_type": "execute_result"
    }
   ],
   "source": [
    "multiplication(12,3)"
   ]
  },
  {
   "cell_type": "code",
   "execution_count": 103,
   "metadata": {},
   "outputs": [
    {
     "data": {
      "text/plain": [
       "4.0"
      ]
     },
     "execution_count": 103,
     "metadata": {},
     "output_type": "execute_result"
    }
   ],
   "source": [
    "division(12,3)"
   ]
  },
  {
   "cell_type": "markdown",
   "metadata": {},
   "source": [
    "### *Challenge Question 5*\n",
    "\n",
    "In the cell below, create a function called `unitsPerFloor` which takes in the number of units in a building and the number of floors and returns the number of units on each floor. \n",
    "\n"
   ]
  },
  {
   "cell_type": "code",
   "execution_count": 132,
   "metadata": {},
   "outputs": [],
   "source": [
    "    def unitsperfloor(total_units, total_floor):\n",
    "        units_per_floor = total_units/total_floor\n",
    "        return(units_per_floor)"
   ]
  },
  {
   "cell_type": "code",
   "execution_count": 134,
   "metadata": {},
   "outputs": [
    {
     "data": {
      "text/plain": [
       "4.0"
      ]
     },
     "execution_count": 134,
     "metadata": {},
     "output_type": "execute_result"
    }
   ],
   "source": [
    "unitsperfloor(40,10)"
   ]
  },
  {
   "cell_type": "markdown",
   "metadata": {},
   "source": [
    "### *References*\n"
   ]
  },
  {
   "cell_type": "markdown",
   "metadata": {},
   "source": [
    "Python Software Foundation (2022). The Python tutorial. Retrieved from: https://docs.python.org/3/tutorial/index.html"
   ]
  }
 ],
 "metadata": {
  "kernelspec": {
   "display_name": "Python [conda env:base] *",
   "language": "python",
   "name": "conda-base-py"
  },
  "language_info": {
   "codemirror_mode": {
    "name": "ipython",
    "version": 3
   },
   "file_extension": ".py",
   "mimetype": "text/x-python",
   "name": "python",
   "nbconvert_exporter": "python",
   "pygments_lexer": "ipython3",
   "version": "3.12.7"
  }
 },
 "nbformat": 4,
 "nbformat_minor": 4
}
